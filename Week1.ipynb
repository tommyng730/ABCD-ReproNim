{
 "cells": [
  {
   "cell_type": "markdown",
   "metadata": {},
   "source": [
    "# Weekly Tutorial Problems: Week 1\n",
    "Jérôme Dockès, Nikhil Bhagwat, Jacob Sanz-Robinson.\n",
    "\n",
    "Welcome to the first set of tutorial problems of the ABCD ReproNim Machine Learning course! They are largely based on Jérôme and Nikhil's exercises for the MAIN educational course: https://github.com/neurodatascience/main-2021-ml-parts-1-2\n",
    "\n",
    "Let's get started."
   ]
  },
  {
   "cell_type": "markdown",
   "metadata": {},
   "source": [
    "# Lecture 1: Core Concepts in Machine Learning 1"
   ]
  },
  {
   "cell_type": "markdown",
   "metadata": {},
   "source": [
    "## Question 1: Fitting and Prediction"
   ]
  },
  {
   "cell_type": "markdown",
   "metadata": {},
   "source": [
    "We have a chunk of code below. It imports the necessary libraries, generates some random data, and creates an instance of a linear least squares model with l2 (ridge) regularization. It fits the model to the data, obtains predictions, and calculates the Mean Squared Error of the predictions that were made.\n",
    "\n",
    "**Your task:**\n",
    "* The code runs, but there is a methodological issue in the way we are fitting data. What is this issue in the code below?"
   ]
  },
  {
   "cell_type": "code",
   "execution_count": 1,
   "metadata": {},
   "outputs": [
    {
     "name": "stdout",
     "output_type": "stream",
     "text": [
      "\n",
      "Mean Squared Error: 4.517310104459653e-18\n",
      "MSE is 0 up to machine precision: True\n"
     ]
    }
   ],
   "source": [
    "import numpy as np\n",
    "from sklearn.datasets import make_regression\n",
    "from sklearn.linear_model import Ridge\n",
    "from sklearn.metrics import mean_squared_error\n",
    "\n",
    "X, y = make_regression(n_samples=80, n_features=600, noise=10, random_state=0) #Generates a random linear combination of random features, with noise.\n",
    "\n",
    "model = Ridge(alpha=1e-8)\n",
    "model.fit(X, y)\n",
    "predictions = model.predict(X)\n",
    "mse = mean_squared_error(y, predictions)\n",
    "\n",
    "print(f\"\\nMean Squared Error: {mse}\")\n",
    "print(\"MSE is 0 up to machine precision:\", np.allclose(mse, 0))"
   ]
  },
  {
   "cell_type": "markdown",
   "metadata": {},
   "source": [
    "Now let's compare training and testing performance. We generate some new data, and split it into a train and test set.\n",
    "\n",
    "**Your task:**\n",
    "* Fit the model on training data only, get predictions for test data, and compute prediction error. Is it a much larger than error on the training data?"
   ]
  },
  {
   "cell_type": "code",
   "execution_count": 2,
   "metadata": {},
   "outputs": [
    {
     "name": "stdout",
     "output_type": "stream",
     "text": [
      "\n",
      "On a separate test set...\n",
      "Out-of-sample Mean Squared Error: 25420.842988621494\n"
     ]
    }
   ],
   "source": [
    "X, y = make_regression(n_samples=160, n_features=600, noise=10, random_state=0)\n",
    "X_train, X_test = X[:80], X[80:]\n",
    "y_train, y_test = y[:80], y[80:]\n",
    "\n",
    "model = Ridge(alpha=1e-8)\n",
    "model.fit(X_train, y_train)\n",
    "predictions = model.predict(X_test)\n",
    "mse = mean_squared_error(y_test, predictions)\n",
    "print(f\"\\nOn a separate test set...\\nOut-of-sample Mean Squared Error: {mse}\")"
   ]
  },
  {
   "cell_type": "markdown",
   "metadata": {},
   "source": [
    "## Question 2: Cross-Validation"
   ]
  },
  {
   "cell_type": "markdown",
   "metadata": {},
   "source": [
    "As in the previous question, we import the libraries we need, generate some random data, and create an instance of a linear least squares model with l2 regularization."
   ]
  },
  {
   "cell_type": "code",
   "execution_count": 3,
   "metadata": {},
   "outputs": [],
   "source": [
    "from sklearn.datasets import make_regression\n",
    "from sklearn import model_selection\n",
    "from sklearn.linear_model import Ridge\n",
    "\n",
    "X, y = make_regression(noise=10) #Generates a random linear combination of random features, with noise.\n",
    "model = Ridge()"
   ]
  },
  {
   "cell_type": "markdown",
   "metadata": {},
   "source": [
    "**Your task (should be ~2 lines of code):**\n",
    "* Using an appropriate function from scikit-learn, compute cross-validation scores for a ridge regression on this dataset.\n",
    "* What cross-validation strategy are you using? What do the scores represent -- what performance metric is used?\n",
    "* What is a good choice for k?\n",
    "* Once you are satisfied with the scores, fit the model to the data."
   ]
  },
  {
   "cell_type": "code",
   "execution_count": 4,
   "metadata": {},
   "outputs": [
    {
     "name": "stdout",
     "output_type": "stream",
     "text": [
      "{'fit_time': array([0.00159907, 0.00081921, 0.0008707 , 0.00069308, 0.00067401]), 'score_time': array([0.0003891 , 0.00031805, 0.0003202 , 0.00030303, 0.00030375]), 'test_score': array([-6653.2586604 , -7629.24218015, -4622.24115848, -9187.02189884,\n",
      "       -7953.0088191 ])}\n"
     ]
    },
    {
     "data": {
      "text/plain": [
       "Ridge()"
      ]
     },
     "execution_count": 4,
     "metadata": {},
     "output_type": "execute_result"
    }
   ],
   "source": [
    "scores = model_selection.cross_validate(model, X, y, scoring=\"neg_mean_squared_error\", cv=model_selection.KFold(5))\n",
    "print(scores)\n",
    "model.fit(X, y)"
   ]
  },
  {
   "cell_type": "markdown",
   "metadata": {},
   "source": [
    "## Question 3: Hyperparameters and Grid Search"
   ]
  },
  {
   "cell_type": "markdown",
   "metadata": {},
   "source": [
    "The chunk of code below imports the necessary datasets, generates some random data for us to classify.\n",
    "\n",
    "**Your task:**\n",
    "* Modify the \"model\" variable. It should use the GridSearchCV to run a Logistic Regression, doing a grid search over at least 3 different values of C (I suggest they each vary by an order of magnitude), and \"l1\" and \"l2\" penalty types."
   ]
  },
  {
   "cell_type": "code",
   "execution_count": 6,
   "metadata": {},
   "outputs": [
    {
     "name": "stdout",
     "output_type": "stream",
     "text": [
      "{'fit_time': array([0.0326221 , 0.03185487, 0.03132915, 0.03282881, 0.03295588]), 'score_time': array([0.0002389 , 0.00023913, 0.00023103, 0.00030899, 0.00023913]), 'test_score': array([0.8 , 1.  , 0.9 , 0.85, 1.  ])}\n"
     ]
    },
    {
     "data": {
      "image/png": "[encoded data removed]",
      "text/plain": [
       "<Figure size 288x288 with 1 Axes>"
      ]
     },
     "metadata": {
      "needs_background": "light"
     },
     "output_type": "display_data"
    }
   ],
   "source": [
    "import numpy as np\n",
    "from sklearn.datasets import make_classification\n",
    "from sklearn.linear_model import LogisticRegression\n",
    "from sklearn.model_selection import cross_validate, GridSearchCV\n",
    "from matplotlib import pyplot as plt\n",
    "\n",
    "X, y = make_classification()\n",
    "model = GridSearchCV(LogisticRegression(solver=\"liblinear\"), {\"C\": [0.01, 0.1, 1.0], \"penalty\": [\"l1\", \"l2\"]})\n",
    "scores = cross_validate(model, X, y)\n",
    "print(scores)\n",
    "\n",
    "# Creating a figure to visualize the grid of hyperparameters\n",
    "fig, ax = plt.subplots(figsize=(4, 4))\n",
    "a, b = np.mgrid[:3, :2]\n",
    "plt.scatter(a.ravel(), b.ravel())\n",
    "ax.set_xticks([0, 1, 2])\n",
    "ax.set_xticklabels([0.01, 0.1, 1.0])\n",
    "ax.set_yticks([0, 1])\n",
    "ax.set_yticklabels([\"l1\", \"l2\"])\n",
    "ax.set_xlabel(\"Hyperparam: C\")\n",
    "ax.set_ylabel(\"Hyperparam: 'penalty'\")\n",
    "ax.set_ylim(-1, 2)\n",
    "plt.show()"
   ]
  },
  {
   "cell_type": "markdown",
   "metadata": {},
   "source": [
    "## Question 4: Prediction and Performance Scores"
   ]
  },
  {
   "cell_type": "markdown",
   "metadata": {},
   "source": [
    "In this question we're going to build a model that can recognize handwritten digits.\n",
    "\n",
    "Firstly, below are all the libraries we are going to use for this question. I suggest you Google them, or have a glance at their documentation if you don't already recognize them! Popular libraries often have very informative documentation, complete with examples.\n",
    "For example: https://scikit-learn.org/stable/user_guide.html"
   ]
  },
  {
   "cell_type": "code",
   "execution_count": 7,
   "metadata": {},
   "outputs": [],
   "source": [
    "from sklearn.datasets import fetch_openml\n",
    "import matplotlib as mpl\n",
    "import matplotlib.pyplot as plt\n",
    "from sklearn.linear_model import SGDClassifier\n",
    "from sklearn.model_selection import cross_val_score\n",
    "from sklearn.model_selection import cross_val_predict\n",
    "from sklearn.metrics import confusion_matrix\n",
    "from sklearn.metrics import precision_score, recall_score, f1_score"
   ]
  },
  {
   "cell_type": "markdown",
   "metadata": {},
   "source": [
    "We're going to download the dataset we'll be using. It's the MNIST dataset - a set of 70,000 images of digits handwritten by high school students. It's a commonly used benchmark for Machine Learning algorithms, and a part of many Machine Learning courses, earning it it's infamous nickname of the 'Hello World' of Machine Learning."
   ]
  },
  {
   "cell_type": "code",
   "execution_count": 8,
   "metadata": {},
   "outputs": [
    {
     "data": {
      "text/plain": [
       "dict_keys(['data', 'target', 'frame', 'categories', 'feature_names', 'target_names', 'DESCR', 'details', 'url'])"
      ]
     },
     "execution_count": 8,
     "metadata": {},
     "output_type": "execute_result"
    }
   ],
   "source": [
    "mnist = fetch_openml('mnist_784', version=1, as_frame= False) #~130MB, might take a little time to download!\n",
    "mnist.keys()"
   ]
  },
  {
   "cell_type": "markdown",
   "metadata": {},
   "source": [
    "Let's look at the data dimensions, what the first digit looks like, and what it's label is:"
   ]
  },
  {
   "cell_type": "code",
   "execution_count": 9,
   "metadata": {},
   "outputs": [
    {
     "name": "stdout",
     "output_type": "stream",
     "text": [
      "(70000, 784)\n"
     ]
    },
    {
     "data": {
      "image/png": "[encoded data removed]",
      "text/plain": [
       "<Figure size 432x288 with 1 Axes>"
      ]
     },
     "metadata": {
      "needs_background": "light"
     },
     "output_type": "display_data"
    },
    {
     "name": "stdout",
     "output_type": "stream",
     "text": [
      "5\n"
     ]
    }
   ],
   "source": [
    "X, y = mnist[\"data\"], mnist[\"target\"]\n",
    "print(X.shape) \n",
    "\n",
    "some_digit = X[0]\n",
    "some_digit_image = some_digit.reshape(28, 28)\n",
    "plt.imshow(some_digit_image, cmap = mpl.cm.binary, interpolation=\"nearest\")\n",
    "plt.axis(\"off\")\n",
    "plt.show()\n",
    "\n",
    "print(y[0])"
   ]
  },
  {
   "cell_type": "markdown",
   "metadata": {},
   "source": [
    "Now we're going to separate the data to use the first 60,000 images as our training set, and the final 10,000 for our test set.\n",
    "\n",
    "We're going to try to quickly make a binary classification model. It will be able to tell the difference between the number 5 and all the other digits. A 5-detector.\n",
    "\n",
    "Our classifier will be an instance of a SGDClassifier model. I've chosen this classifier because it can handle large datasets efficiently. The default setting we are using is a linear SVM (you will see what this is next week). It is sped up by using a variation of Gradient Descent - Stochastic Gradient Descent (deals with training instances independently, one at a time)."
   ]
  },
  {
   "cell_type": "code",
   "execution_count": 10,
   "metadata": {},
   "outputs": [],
   "source": [
    "X_train, X_test, y_train, y_test = X[:60000], X[60000:], y[:60000], y[60000:]\n",
    "y_train = y_train.astype(np.int8) #Casting labels from strings to integers\n",
    "\n",
    "#Here we are binarizing our labels. All labels that are 5 are converted to True, and the rest to False. \n",
    "y_train_5 = (y_train == 5)\n",
    "y_test_5 = (y_test == 5)\n",
    "\n",
    "sgd_clf = SGDClassifier(random_state=42) #42 is arbitrarily chosen. From documentation: \"Pass an int for reproducible output across multiple function calls\""
   ]
  },
  {
   "cell_type": "markdown",
   "metadata": {},
   "source": [
    "**Your task (should only be ~3 lines of code):**\n",
    "* Fit the sgd_clf model to the training data, and make a prediction using it. Was the prediction it made right?\n",
    "* Run cross validation using 3 folds on the model to determine it's accuracy. What accuracies are you getting for the 3 folds?"
   ]
  },
  {
   "cell_type": "code",
   "execution_count": 11,
   "metadata": {},
   "outputs": [
    {
     "data": {
      "text/plain": [
       "array([0.95035, 0.96035, 0.9604 ])"
      ]
     },
     "execution_count": 11,
     "metadata": {},
     "output_type": "execute_result"
    }
   ],
   "source": [
    "sgd_clf.fit(X_train, y_train_5)\n",
    "sgd_clf.predict([some_digit])\n",
    "cross_val_score(sgd_clf, X_train, y_train_5, cv=3, scoring=\"accuracy\")"
   ]
  },
  {
   "cell_type": "markdown",
   "metadata": {},
   "source": [
    "If you did everything right, you probably got something amazing, like 95% accuracy on all folds.\n",
    "Too good to be true? Yup...only about 10% of the images are 5s, so if you always guess that an image is NOT a 5, you will be right about 90% of the time...Not as impressive now."
   ]
  },
  {
   "cell_type": "markdown",
   "metadata": {},
   "source": [
    "**Your task (should only be ~2 lines of code):**\n",
    "\n",
    "Use the appropriate imported libraries to:\n",
    "* Obtain the predictions made on each fold of the training data.\n",
    "* Build a confusion matrix for these predictions."
   ]
  },
  {
   "cell_type": "code",
   "execution_count": 13,
   "metadata": {},
   "outputs": [
    {
     "data": {
      "text/plain": [
       "array([[53892,   687],\n",
       "       [ 1891,  3530]])"
      ]
     },
     "execution_count": 13,
     "metadata": {},
     "output_type": "execute_result"
    }
   ],
   "source": [
    "y_train_pred = cross_val_predict(sgd_clf, X_train, y_train_5, cv=3)\n",
    "confusion_matrix(y_train_5, y_train_pred)"
   ]
  },
  {
   "cell_type": "markdown",
   "metadata": {},
   "source": [
    "Remember that each row in a confusion matrix represents an actual class, while each column represents a predicted class. So the first row of this matrix considers non-5 images (the negative class). The second row considers the images of 5s (the positive class).\n",
    "\n",
    "**Your task:**\n",
    "In your confusion Matrix, how many did you get for each of\n",
    "* true negatives: \n",
    "* false positives: \n",
    "* false negatives: \n",
    "* true positives:\n",
    "\n",
    "* Use sklearn to find the precision, recall, and f1_score of these obtained predictions."
   ]
  },
  {
   "cell_type": "code",
   "execution_count": 14,
   "metadata": {},
   "outputs": [
    {
     "name": "stdout",
     "output_type": "stream",
     "text": [
      "0.8370879772350012\n",
      "0.6511713705958311\n",
      "0.7325171197343846\n"
     ]
    }
   ],
   "source": [
    "print(precision_score(y_train_5, y_train_pred))\n",
    "print(recall_score(y_train_5, y_train_pred))\n",
    "print(f1_score(y_train_5, y_train_pred))"
   ]
  },
  {
   "cell_type": "markdown",
   "metadata": {},
   "source": [
    "# Lecture 2: Core Concepts in Machine Learning 2"
   ]
  },
  {
   "cell_type": "markdown",
   "metadata": {},
   "source": [
    "## Question 1: Dataset Transformation\n",
    "**Your task:**\n",
    "Use an sklearn function seen in the recorded lectures to modify the variable X_scaled. X_scaled should standardize the feature variable X by removing the mean and scaling to unit variance."
   ]
  },
  {
   "cell_type": "code",
   "execution_count": 16,
   "metadata": {},
   "outputs": [
    {
     "name": "stdout",
     "output_type": "stream",
     "text": [
      "X:\n",
      "[[  0   1 -10]\n",
      " [  0  -1   0]\n",
      " [  1   0  10]\n",
      " [  1   0   0]]\n",
      "\n",
      "X scaled:\n",
      "[[-1.          1.41421356 -1.41421356]\n",
      " [-1.         -1.41421356  0.        ]\n",
      " [ 1.          0.          1.41421356]\n",
      " [ 1.          0.          0.        ]]\n",
      "\n",
      "mean: [0. 0. 0.]\n",
      "std: [1. 1. 1.]\n"
     ]
    }
   ],
   "source": [
    "\n",
    "import numpy as np\n",
    "from sklearn.preprocessing import StandardScaler\n",
    "\n",
    "X = np.asarray([[0, 1, -10], [0, -1, 0], [1, 0, 10], [1, 0, 0]])\n",
    "print(f\"X:\\n{X}\\n\")\n",
    "\n",
    "X_scaled = StandardScaler().fit_transform(X)\n",
    "\n",
    "print(f\"X scaled:\\n{X_scaled}\\n\")\n",
    "print(f\"mean: {X_scaled.mean(axis=0)}\\nstd: {X_scaled.std(axis=0)}\")"
   ]
  },
  {
   "cell_type": "markdown",
   "metadata": {},
   "source": [
    "## Question 2: Feature Selection"
   ]
  },
  {
   "cell_type": "markdown",
   "metadata": {},
   "source": [
    "As in the previous questions, we import relevant libraries and generate random data for regression. We then use the SelectKBest function from sklearn to perform feature selection (select features according to the k highest scores using f_regression - a linear model for testing the effect of a regressor), and perform cross validation using the Ridge linear model.\n",
    "\n",
    "**Your task:**\n",
    "What is the methodological issue with the chunk of code?"
   ]
  },
  {
   "cell_type": "code",
   "execution_count": 17,
   "metadata": {},
   "outputs": [
    {
     "name": "stdout",
     "output_type": "stream",
     "text": [
      "feature selection in 'preprocessing': [0.81169757 0.63046326 0.54143034 0.72676923 0.8752332 ]\n"
     ]
    }
   ],
   "source": [
    "from sklearn.datasets import make_regression\n",
    "from sklearn.linear_model import Ridge\n",
    "from sklearn.feature_selection import SelectKBest, f_regression\n",
    "from sklearn.model_selection import cross_validate\n",
    "from sklearn.pipeline import make_pipeline\n",
    "from matplotlib import pyplot as plt\n",
    "\n",
    "X, y = make_regression(noise=10, n_features=5000, random_state=0)\n",
    "\n",
    "X_reduced = SelectKBest(f_regression).fit_transform(X, y)\n",
    "scores = cross_validate(Ridge(), X_reduced, y)[\"test_score\"]\n",
    "print(\"feature selection in 'preprocessing':\", scores)"
   ]
  },
  {
   "cell_type": "markdown",
   "metadata": {},
   "source": [
    "So...now let's fix it. To do this we are going to create a pipeline. We will make sure to fit the whole pipeline to the training set.\n",
    "\n",
    "**Your task:**\n",
    "* Modify the 'model' variable. Use the appropriate sklearn method to make a pipeline out of the functions from the previous chunk of code.\n",
    "* How do your results vary? Why do you think this is?"
   ]
  },
  {
   "cell_type": "code",
   "execution_count": 18,
   "metadata": {},
   "outputs": [
    {
     "name": "stdout",
     "output_type": "stream",
     "text": [
      "feature selection on train set: [ 0.11577751  0.0439333  -0.27625968  0.32327364  0.28367254]\n"
     ]
    },
    {
     "data": {
      "image/png": "[encoded data removed]",
      "text/plain": [
       "<Figure size 432x288 with 1 Axes>"
      ]
     },
     "metadata": {
      "needs_background": "light"
     },
     "output_type": "display_data"
    }
   ],
   "source": [
    "model = make_pipeline(SelectKBest(f_regression), Ridge())\n",
    "scores_pipe = cross_validate(model, X, y)[\"test_score\"]\n",
    "print(\"feature selection on train set:\", scores_pipe)\n",
    "\n",
    "# Plotting our results!\n",
    "plt.boxplot(\n",
    "    [scores_pipe, scores],\n",
    "    vert=False,\n",
    "    labels=[\n",
    "        \"feature selection on train set\",\n",
    "        \"feature selection on whole data\",\n",
    "    ],\n",
    ")\n",
    "plt.gca().set_xlabel(\"R² score\")\n",
    "plt.tight_layout()\n",
    "plt.show()"
   ]
  },
  {
   "cell_type": "markdown",
   "metadata": {},
   "source": [
    "## Question 3: Dimensionality Reduction"
   ]
  },
  {
   "cell_type": "markdown",
   "metadata": {},
   "source": [
    "The sklearn library has included a dataset featuring breast cancer data. We fit the data, then transform it, standardizing the feature variable.\n",
    "\n",
    "**Your task:**\n",
    "* Use the sklearn PCA model to only keep the first two principal components of the data.\n",
    "* Fit the PCA model to breast cancer data, and tranform the data onto the first two principal components.\n",
    "* Compare original and reduced shape of the data...Is it behaving how you would expect?\n",
    "* Bonus: Create a plot to visualize the first vs second principal components (or any other method you would like to compare them)! Does it seem like the classes are easily separable?"
   ]
  },
  {
   "cell_type": "code",
   "execution_count": 20,
   "metadata": {},
   "outputs": [
    {
     "name": "stdout",
     "output_type": "stream",
     "text": [
      "Original shape: (569, 30)\n",
      "Reduced shape: (569, 2)\n",
      "\n",
      "(2, 30)\n",
      "[[ 0.21890244  0.10372458  0.22753729  0.22099499  0.14258969  0.23928535\n",
      "   0.25840048  0.26085376  0.13816696  0.06436335  0.20597878  0.01742803\n",
      "   0.21132592  0.20286964  0.01453145  0.17039345  0.15358979  0.1834174\n",
      "   0.04249842  0.10256832  0.22799663  0.10446933  0.23663968  0.22487053\n",
      "   0.12795256  0.21009588  0.22876753  0.25088597  0.12290456  0.13178394]\n",
      " [-0.23385713 -0.05970609 -0.21518136 -0.23107671  0.18611302  0.15189161\n",
      "   0.06016536 -0.0347675   0.19034877  0.36657547 -0.10555215  0.08997968\n",
      "  -0.08945723 -0.15229263  0.20443045  0.2327159   0.19720728  0.13032156\n",
      "   0.183848    0.28009203 -0.21986638 -0.0454673  -0.19987843 -0.21935186\n",
      "   0.17230435  0.14359317  0.09796411 -0.00825724  0.14188335  0.27533947]]\n"
     ]
    },
    {
     "data": {
      "text/plain": [
       "Text(0, 0.5, 'Second principal component')"
      ]
     },
     "execution_count": 20,
     "metadata": {},
     "output_type": "execute_result"
    },
    {
     "data": {
      "image/png": "[encoded data removed]",
      "text/plain": [
       "<Figure size 576x576 with 1 Axes>"
      ]
     },
     "metadata": {
      "needs_background": "light"
     },
     "output_type": "display_data"
    }
   ],
   "source": [
    "from sklearn.datasets import load_breast_cancer\n",
    "from sklearn.decomposition import PCA\n",
    "from sklearn.preprocessing import StandardScaler\n",
    "\n",
    "cancer = load_breast_cancer()\n",
    "scaler = StandardScaler()\n",
    "scaler.fit(cancer.data)\n",
    "X_scaled = scaler.transform(cancer.data)\n",
    "\n",
    "pca = PCA(n_components=2)\n",
    "pca.fit(X_scaled)\n",
    "X_pca = pca.transform(X_scaled)\n",
    "print(\"Original shape: %s\" % str(X_scaled.shape))\n",
    "print(\"Reduced shape: %s\" % str(X_pca.shape))\n",
    "\n",
    "print()\n",
    "print(pca.components_.shape)\n",
    "print(pca.components_)\n",
    "\n",
    "# plot fist vs second principal component, color by class\n",
    "plt.figure(figsize=(8, 8))\n",
    "plt.scatter(X_pca[:, 0], X_pca[:, 1], c=cancer.target, s=60)\n",
    "plt.gca().set_aspect(\"equal\")\n",
    "plt.xlabel(\"First principal component\")\n",
    "plt.ylabel(\"Second principal component\")"
   ]
  },
  {
   "cell_type": "markdown",
   "metadata": {},
   "source": [
    "## Question 4: Big Picture - Scanning site prediction"
   ]
  },
  {
   "cell_type": "markdown",
   "metadata": {},
   "source": [
    "We have some fMRI time series, that we use to compute a connectivity matrix for each participant. We use the connectivity matrix values as our input features to predict to which site the participant belongs.\n",
    "We classify participants using a logistic regression. However we make several additions.\n",
    "\n",
    "### Pipeline\n",
    "We use scikit-learn's `sklearn.pipeline.Pipeline`, that enables chaining several transformations into a single scikit-learn estimator (an object with a `fit` method). This avoids dealing with the connectivity feature extraction separately and ensures everything is fitted on the training data only -- which is crucial here because we will add scaling a dimensionality reduction step with Principal Component Analysis.\n",
    "\n",
    "### Scaling\n",
    "We add scaling of the input features using scikit-learn's StandardScaler, which removes the mean and scales the features to unit variance. This helps the logistic regression solver converge faster and often improves performance.\n",
    "\n",
    "### Dimensionality Reduction\n",
    "We also consider a pipeline that reduces the dimension of input features with PCA, and compare it to the baseline logistic regrssion. One advantage is that the pipeline that uses PCA can be fitted much faster.\n",
    "\n",
    "### Cross-validation\n",
    "Here, we will use scikit-learn's `cross_validate` to perform K-Fold cross-validation and get a better estimate of our model's generalization performance. This allows comparing logistic regression with and without PCA, as well as a naive baseline.\n",
    "\n",
    "Moreover, instead of the plain `LogisticRegression`, we use scikit-learn's `LogisticRegressionCV`, which automatically performs a nested cross-validation loop on the training data to select the best hyperparameter.\n",
    "\n",
    "**We therefore obtain a typical supervised learning experiment, with learning pipelines that involve chained transformations, hyperparameter selection, a cross-validation, and comparison of several models and a baseline.**"
   ]
  },
  {
   "cell_type": "markdown",
   "metadata": {},
   "source": [
    "# Exercises\n",
    "\n",
    "* Read, understand and run the code in the cell below. `load_connectivity_data` loads the data and returns the matrices `X` and `y`. `prepare_pipelines` returns a dictionary whose values are scikit-learn estimators and whose keys are names for each estimator. All estimators are instances of scikit-learn's `Pipeline`, and the first step is always connectivity feature extraction with nilearn's `ConnectivityMeasure`.\n",
    "\n",
    "\n",
    "* At the moment `prepare_pipelines` only returns 2 estimators: the logistic regression and a dummy estimator. Add a third estimator in the returned dictionary, which contains a dimensionality reduction step: a PCA with 20 components. To do so, add a `sklearn.decomposition.PCA` as the second step of the pipeline. Note 20 is an arbitrary choice; how could we set the number of components in a principled way? What is the largest number of components we could ask for?\n",
    "\n",
    "\n",
    "* There are 111 regions in the atlas we use to compute region-region connectivity matrices: the output of the `ConnectivityMeasure` has 111 * (111 - 1) / 2 = 6105 columns. If the dataset has 100 participants, What is the size of the coefficients of the logistic regression? of the selected (20 first) principal components? of the output of the PCA transformation (ie the compressed design matrix)?\n",
    "\n",
    "\n",
    "* Here we are storing data and model coefficients in arrays of 64-bit floating-point values, meaning each number takes 64 bits = 8 bytes of memory. Approximately how much memory is used by the design matrix X? by the dimensionality-reduced data (ie the kept left singular vectors of X)? by the principal components (the kept right singular vectors of X)?\n",
    "\n",
    "\n",
    "* As you can see, in this script we do not specify explicitly the metric functions that are used to evaluate models, but rely on scikit-learn's defaults instead. What metric is used in order to select the best hyperparameter? What metric is used to compute scores in `cross_validate`? Are these defaults appropriate for our particular situation?\n",
    "\n",
    "\n",
    "* We do not specify the cross-validation strategy either. Which cross-validation procedure is used in `cross_validate`, and by the `LogisticRegressionCV`? Are these choices appropriate?\n",
    "\n",
    "## Additional exercises (optional)\n",
    "\n",
    "* Try replacing the default metrics with other scoring functions from scikit-learn or functions that you write yourself. Does the relative performance of the models change?\n",
    "\n",
    "* Specify the cross-validation strategy explicitly, possibly choosing a different one than the default.\n",
    "\n",
    "* Add another estimator to the options returned by `prepare_pipelines`, that uses univariate feature selection instead of PCA.\n",
    "\n",
    "* What other approach could we use to obtain connectivity features of a lower dimension?"
   ]
  },
  {
   "cell_type": "code",
   "execution_count": 22,
   "metadata": {},
   "outputs": [
    {
     "ename": "ModuleNotFoundError",
     "evalue": "No module named 'nilearn'",
     "output_type": "error",
     "traceback": [
      "\u001b[0;31m---------------------------------------------------------------------------\u001b[0m",
      "\u001b[0;31mModuleNotFoundError\u001b[0m                       Traceback (most recent call last)",
      "\u001b[0;32m/var/folders/jl/tgpfm6nd7c98j76ppbnv40n00000gn/T/ipykernel_12529/3169512089.py\u001b[0m in \u001b[0;36m<module>\u001b[0;34m\u001b[0m\n\u001b[0;32m----> 1\u001b[0;31m \u001b[0;32mfrom\u001b[0m \u001b[0mnilearn\u001b[0m \u001b[0;32mimport\u001b[0m \u001b[0mdatasets\u001b[0m\u001b[0;34m\u001b[0m\u001b[0;34m\u001b[0m\u001b[0m\n\u001b[0m\u001b[1;32m      2\u001b[0m \u001b[0;32mfrom\u001b[0m \u001b[0mnilearn\u001b[0m\u001b[0;34m.\u001b[0m\u001b[0mconnectome\u001b[0m \u001b[0;32mimport\u001b[0m \u001b[0mConnectivityMeasure\u001b[0m\u001b[0;34m\u001b[0m\u001b[0;34m\u001b[0m\u001b[0m\n\u001b[1;32m      3\u001b[0m \u001b[0;34m\u001b[0m\u001b[0m\n\u001b[1;32m      4\u001b[0m \u001b[0;32mfrom\u001b[0m \u001b[0msklearn\u001b[0m\u001b[0;34m.\u001b[0m\u001b[0mbase\u001b[0m \u001b[0;32mimport\u001b[0m \u001b[0mclone\u001b[0m\u001b[0;34m\u001b[0m\u001b[0;34m\u001b[0m\u001b[0m\n\u001b[1;32m      5\u001b[0m \u001b[0;32mfrom\u001b[0m \u001b[0msklearn\u001b[0m\u001b[0;34m.\u001b[0m\u001b[0mpreprocessing\u001b[0m \u001b[0;32mimport\u001b[0m \u001b[0mLabelEncoder\u001b[0m\u001b[0;34m,\u001b[0m \u001b[0mStandardScaler\u001b[0m\u001b[0;34m\u001b[0m\u001b[0;34m\u001b[0m\u001b[0m\n",
      "\u001b[0;31mModuleNotFoundError\u001b[0m: No module named 'nilearn'"
     ]
    }
   ],
   "source": [
    "from nilearn import datasets\n",
    "from nilearn.connectome import ConnectivityMeasure\n",
    "\n",
    "from sklearn.base import clone\n",
    "from sklearn.preprocessing import LabelEncoder, StandardScaler\n",
    "from sklearn.model_selection import cross_validate\n",
    "from sklearn.pipeline import make_pipeline\n",
    "from sklearn.linear_model import LogisticRegressionCV\n",
    "from sklearn.dummy import DummyClassifier\n",
    "\n",
    "from matplotlib import pyplot as plt\n",
    "import pandas as pd\n",
    "import seaborn as sns"
   ]
  },
  {
   "cell_type": "code",
   "execution_count": null,
   "metadata": {},
   "outputs": [],
   "source": [
    "def load_timeseries_and_site(n_subjects=100):\n",
    "    \"\"\"Load ABIDE timeseries and participants' site.\n",
    "    Returns X, a list with one array of shape (n_samples, n_rois) per\n",
    "    participant, and y, an array of length n_participants containing integers\n",
    "    representing the site each participant belongs to.\n",
    "    \"\"\"\n",
    "    data = datasets.fetch_abide_pcp(n_subjects=n_subjects, derivatives=[\"rois_ho\"], quality_checked=False)\n",
    "    X = data[\"rois_ho\"]\n",
    "    print(data)\n",
    "    y = LabelEncoder().fit_transform(data[\"phenotypic\"][\"SITE_ID\"])\n",
    "    return X, y\n",
    "\n",
    "\n",
    "def prepare_pipelines():\n",
    "    \"\"\"Prepare scikit-learn pipelines for fmri classification with connectivity.\n",
    "    Returns a dictionary where each value is a scikit-learn estimator (a\n",
    "    `Pipeline`) and the corresponding key is a descriptive string for that\n",
    "    estimator.\n",
    "    As an exercise you need to add a pipeline that performs dimensionality\n",
    "    reduction with PCA.\n",
    "    \"\"\"\n",
    "    connectivity = ConnectivityMeasure(\n",
    "        kind=\"correlation\", vectorize=True, discard_diagonal=True\n",
    "    )\n",
    "    scaling = StandardScaler()\n",
    "    logreg = LogisticRegressionCV(solver=\"liblinear\", cv=3, Cs=3)\n",
    "    logreg = LogisticRegression(C=10)\n",
    "    logistic_reg = make_pipeline(\n",
    "        clone(connectivity), clone(scaling), clone(logreg)\n",
    "    )\n",
    "    # make_pipeline is a convenient way to create a Pipeline by passing the\n",
    "    # steps as arguments. clone creates a copy of the input estimator, to avoid\n",
    "    # sharing the state of an estimator across pipelines.\n",
    "    pca_logistic_reg = make_pipeline(\n",
    "        clone(connectivity),\n",
    "        clone(scaling),\n",
    "        PCA(n_components=20),\n",
    "        clone(logreg),\n",
    "    )\n",
    "    kbest_logistic_reg = make_pipeline(\n",
    "        clone(connectivity),\n",
    "        clone(scaling),\n",
    "        SelectKBest(f_classif, k=300),\n",
    "        clone(logreg),\n",
    "    )\n",
    "    dummy = make_pipeline(clone(connectivity), DummyClassifier())\n",
    "    # TODO: add a pipeline with a PCA dimensionality reduction step to this\n",
    "    # dictionary. You will need to import `sklearn.decomposition.PCA`.\n",
    "    return {\n",
    "        \"Logistic no PCA\": logistic_reg,\n",
    "        \"Logistic with PCA\": pca_logistic_reg,\n",
    "        \"Logistic with feature selection\": kbest_logistic_reg,\n",
    "        \"Dummy\": dummy,\n",
    "    }\n",
    "\n",
    "\n",
    "def compute_cv_scores(models, X, y):\n",
    "    \"\"\"Compute cross-validation scores for all models\n",
    "    `models` is a dictionary like the one returned by `prepare_pipelines`, ie\n",
    "    of the form `{\"model_name\": estimator}`, where `estimator` is a\n",
    "    scikit-learn estimator.\n",
    "    `X` and `y` are the design matrix and the outputs to predict.\n",
    "    Returns a `pd.DataFrame` with one row for each model and cross-validation\n",
    "    fold. Columns include `test_score` and `fit_time`.\n",
    "    \"\"\"\n",
    "    all_scores = []\n",
    "    for model_name, model in models.items():\n",
    "        print(f\"Computing scores for model: '{model_name}'\")\n",
    "        model_scores = pd.DataFrame(cross_validate(model, X, y, return_train_score=True))\n",
    "        model_scores[\"model\"] = model_name\n",
    "        all_scores.append(model_scores)\n",
    "    all_scores = pd.concat(all_scores)\n",
    "    return all_scores"
   ]
  },
  {
   "cell_type": "code",
   "execution_count": null,
   "metadata": {},
   "outputs": [],
   "source": [
    "X, y = load_timeseries_and_site()\n",
    "models = prepare_pipelines()\n",
    "all_scores = compute_cv_scores(models, X, y)\n",
    "print(all_scores.groupby(\"model\").mean())\n",
    "sns.stripplot(data=all_scores, x=\"test_score\", y=\"model\")\n",
    "plt.tight_layout()\n",
    "plt.show()"
   ]
  }
 ],
 "metadata": {
  "kernelspec": {
   "display_name": "Python 3 (ipykernel)",
   "language": "python",
   "name": "python3"
  },
  "language_info": {
   "codemirror_mode": {
    "name": "ipython",
    "version": 3
   },
   "file_extension": ".py",
   "mimetype": "text/x-python",
   "name": "python",
   "nbconvert_exporter": "python",
   "pygments_lexer": "ipython3",
   "version": "3.9.7"
  }
 },
 "nbformat": 4,
 "nbformat_minor": 4
}
